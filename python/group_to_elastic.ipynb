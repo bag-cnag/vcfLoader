{
 "cells": [
  {
   "cell_type": "code",
   "execution_count": 9,
   "metadata": {},
   "outputs": [],
   "source": [
    "import hail as hl"
   ]
  },
  {
   "cell_type": "code",
   "execution_count": 10,
   "metadata": {},
   "outputs": [],
   "source": [
    "new_vcf=hl.read_matrix_table(\"/home/dpiscia/RDConnect/vcfLoader/output/7.0.0/annotatedVEPdbnSFPCaddClinvarExGnomad/variants19.ht\")"
   ]
  },
  {
   "cell_type": "code",
   "execution_count": 20,
   "metadata": {},
   "outputs": [],
   "source": [
    "result_cols= new_vcf.col.collect()\n",
    "datamap={}\n",
    "for index,value in enumerate(result_cols):datamap[value.s]=index\n",
    "datamap['nr']=len(result_cols)"
   ]
  },
  {
   "cell_type": "code",
   "execution_count": 109,
   "metadata": {},
   "outputs": [],
   "source": [
    "hl_map=hl.dict(datamap)"
   ]
  },
  {
   "cell_type": "code",
   "execution_count": 116,
   "metadata": {},
   "outputs": [],
   "source": [
    "new_vcf_ann = new_vcf.annotate_cols(nr=hl_map.get(new_vcf.s)//100)"
   ]
  },
  {
   "cell_type": "code",
   "execution_count": 122,
   "metadata": {},
   "outputs": [
    {
     "name": "stderr",
     "output_type": "stream",
     "text": [
      "2019-06-18 11:30:51 Hail: INFO: Coerced sorted dataset\n"
     ]
    },
    {
     "data": {
      "text/plain": [
       "58"
      ]
     },
     "execution_count": 122,
     "metadata": {},
     "output_type": "execute_result"
    }
   ],
   "source": [
    "new_vcf_ann.filter_cols(new_vcf_ann.nr==10).count_cols()"
   ]
  },
  {
   "cell_type": "code",
   "execution_count": 132,
   "metadata": {},
   "outputs": [],
   "source": [
    "def truncateAt(hl, n, p):\n",
    "    \"\"\" Formats a input number to 'p' decimals\n",
    "        :param Hailcontext hl: The Hail context\n",
    "        :param String n: Number to format\n",
    "        :param String p: Decimal precision\n",
    "    \"\"\"\n",
    "    return hl.float(hl.int((10 ** hl.int(p) * n))) / (10 ** hl.int(p))"
   ]
  },
  {
   "cell_type": "code",
   "execution_count": 135,
   "metadata": {},
   "outputs": [
    {
     "name": "stdout",
     "output_type": "stream",
     "text": [
      "----------------------------------------\n",
      "Global fields:\n",
      "    None\n",
      "----------------------------------------\n",
      "Column fields:\n",
      "    's': str\n",
      "    'nr': int32\n",
      "----------------------------------------\n",
      "Row fields:\n",
      "    'locus': locus<GRCh37>\n",
      "    'alleles': array<str>\n",
      "    'a_index': int32\n",
      "    'was_split': bool\n",
      "    'effs': array<struct {\n",
      "        gene_name: str, \n",
      "        effect_impact: str, \n",
      "        transcript_id: str, \n",
      "        effect: str, \n",
      "        gene_id: str, \n",
      "        functional_class: str, \n",
      "        amino_acid_length: str, \n",
      "        codon_change: str, \n",
      "        amino_acid_change: str, \n",
      "        exon_rank: str, \n",
      "        transcript_biotype: str, \n",
      "        gene_coding: str\n",
      "    }>\n",
      "    'rs': str\n",
      "    'gp1_asn_af': float64\n",
      "    'gp1_eur_af': float64\n",
      "    'gp1_afr_af': float64\n",
      "    'gp1_af': float64\n",
      "    'gerp_rs': str\n",
      "    'mt': float64\n",
      "    'mutationtaster_pred': str\n",
      "    'phyloP46way_placental': float64\n",
      "    'polyphen2_hvar_pred': str\n",
      "    'polyphen2_hvar_score': float64\n",
      "    'sift_pred': str\n",
      "    'sift_score': float64\n",
      "    'cosmic_id': str\n",
      "    'cadd_phred': float64\n",
      "    'clinvar_id': str\n",
      "    'clinvar_clnsigconf': str\n",
      "    'clinvar_clnsig': str\n",
      "    'clinvar_filter': array<struct {\n",
      "        clnsig: str\n",
      "    }>\n",
      "    'gnomad_af': float64\n",
      "    'gnomad_ac': float64\n",
      "    'gnomad_an': float64\n",
      "    'gnomad_af_popmax': float64\n",
      "    'gnomad_ac_popmax': float64\n",
      "    'gnomad_an_popmax': float64\n",
      "    'gnomad_filter': str\n",
      "----------------------------------------\n",
      "Entry fields:\n",
      "    'MIN_DP': int32\n",
      "    'MQ0': int32\n",
      "    'PGT': call\n",
      "    'PID': str\n",
      "    'PL': array<int32>\n",
      "    'RGQ': int32\n",
      "    'SB': array<int32>\n",
      "    'sample': struct {\n",
      "        sample: str, \n",
      "        ad: float64, \n",
      "        dp: int32, \n",
      "        gtInt: call, \n",
      "        gt: str, \n",
      "        gq: int32\n",
      "    }\n",
      "----------------------------------------\n",
      "Column key: ['s']\n",
      "Row key: ['locus', 'alleles']\n",
      "----------------------------------------\n"
     ]
    }
   ],
   "source": [
    "vcf.describe()"
   ]
  },
  {
   "cell_type": "code",
   "execution_count": 162,
   "metadata": {},
   "outputs": [
    {
     "name": "stdout",
     "output_type": "stream",
     "text": [
      "0\n",
      "1\n",
      "2\n",
      "3\n",
      "4\n",
      "5\n",
      "6\n",
      "7\n",
      "8\n",
      "9\n",
      "10\n"
     ]
    }
   ],
   "source": [
    "MIN_DP=8\n",
    "from pyspark.sql.functions import lit\n",
    "\n",
    "for group in range(0,datamap.get(\"nr\")//100+1):\n",
    "    print(group)\n",
    "    vcf=new_vcf_ann.filter_cols(new_vcf_ann.nr==group)\n",
    "    vcf =  vcf.annotate_rows(ref=vcf.alleles[0],\n",
    "                       alt=vcf.alleles[1],\n",
    "                       pos=vcf.locus.position,\n",
    "                       indel=hl.cond((hl.len(vcf.alleles[0]) != (hl.len(vcf.alleles[1]))) | (hl.len(vcf.alleles[0]) != 1) | (hl.len(vcf.alleles[0]) != 1), True, False),\n",
    "                       samples_germline=hl.filter(lambda x: (x.dp > 8) & (x.gq > 20),hl.agg.collect(vcf.sample)))\n",
    "    vcf = vcf.annotate_rows(freqIntGermline = hl.cond((hl.len(vcf.samples_germline) > 0) | (hl.len(hl.filter(lambda x: x.dp > MIN_DP,vcf.samples_germline)) > 0),\n",
    "        truncateAt(hl,hl.sum(hl.map(lambda x: x.gtInt.unphased_diploid_gt_index(),vcf.samples_germline))/hl.sum(hl.map(lambda x: 2,hl.filter(lambda x: x.dp > 8,vcf.samples_germline))),\"6\"), 0.0)) \\\n",
    "        .drop(\"sample\") \\\n",
    "        .rows()\n",
    "    variants = vcf.to_spark().withColumn(\"chrom\",lit(19))\n",
    "    variants.write.format(\"org.elasticsearch.spark.sql\").save(\"rdconnect_10/7.0.0\", mode='append')\n",
    "    \n",
    "    \n",
    "    \n",
    "    \n",
    "    "
   ]
  },
  {
   "cell_type": "code",
   "execution_count": 147,
   "metadata": {},
   "outputs": [],
   "source": [
    "vcf_filtered=vcf.filter_cols(vcf.nr==1)"
   ]
  },
  {
   "cell_type": "code",
   "execution_count": null,
   "metadata": {},
   "outputs": [],
   "source": [
    "drop.sample germline gtint"
   ]
  },
  {
   "cell_type": "code",
   "execution_count": 150,
   "metadata": {},
   "outputs": [
    {
     "data": {
      "text/plain": [
       "<hail.matrixtable.MatrixTable at 0x7f362286eef0>"
      ]
     },
     "execution_count": 150,
     "metadata": {},
     "output_type": "execute_result"
    }
   ],
   "source": [
    "vcf_filtered.annotate_rows(gt= vcf_filtered.alleles[0])"
   ]
  },
  {
   "cell_type": "code",
   "execution_count": 106,
   "metadata": {},
   "outputs": [],
   "source": [
    "new_vcf_ann = new_vcf.annotate_rows(rsa=hl.eval(annotationsDbSNP()))"
   ]
  },
  {
   "cell_type": "code",
   "execution_count": 107,
   "metadata": {},
   "outputs": [
    {
     "data": {
      "text/plain": [
       "[Struct(locus=Locus(contig=19, position=60251, reference_genome=GRCh37), alleles=['G', 'A'], a_index=1, was_split=False, effs=[Struct(gene_name='WASH5P', effect_impact='MODIFIER', transcript_id='ENST00000592209', effect='intron_variant,non_coding_transcript_variant', gene_id='ENSG00000225373', functional_class='transcript', amino_acid_length='', codon_change='n.406-89C>T', amino_acid_change=None, exon_rank=None, transcript_biotype='processed_transcript', gene_coding=None), Struct(gene_name='WASH5P', effect_impact='MODIFIER', transcript_id='ENST00000606546', effect='intron_variant,non_coding_transcript_variant', gene_id='ENSG00000225373', functional_class='transcript', amino_acid_length='', codon_change='n.179-89C>T', amino_acid_change=None, exon_rank=None, transcript_biotype='processed_transcript', gene_coding=None), Struct(gene_name='WASH5P', effect_impact='MODIFIER', transcript_id='ENST00000606728', effect='downstream_gene_variant', gene_id='ENSG00000225373', functional_class='transcript', amino_acid_length='', codon_change=None, amino_acid_change=None, exon_rank=None, transcript_biotype='processed_transcript', gene_coding=None), Struct(gene_name='WASH5P', effect_impact='MODIFIER', transcript_id='ENST00000606872', effect='downstream_gene_variant', gene_id='ENSG00000225373', functional_class='transcript', amino_acid_length='', codon_change=None, amino_acid_change=None, exon_rank=None, transcript_biotype='processed_transcript', gene_coding=None), Struct(gene_name='WASH5P', effect_impact='MODIFIER', transcript_id='ENST00000607444', effect='downstream_gene_variant', gene_id='ENSG00000225373', functional_class='transcript', amino_acid_length='', codon_change=None, amino_acid_change=None, exon_rank=None, transcript_biotype='processed_transcript', gene_coding=None), Struct(gene_name='WASH5P', effect_impact='MODIFIER', transcript_id='ENST00000607633', effect='downstream_gene_variant', gene_id='ENSG00000225373', functional_class='transcript', amino_acid_length='', codon_change=None, amino_acid_change=None, exon_rank=None, transcript_biotype='processed_transcript', gene_coding=None)], rs=None, gp1_asn_af=0.0, gp1_eur_af=0.0, gp1_afr_af=0.0, gp1_af=0.0, gerp_rs=None, mt=0.0, mutationtaster_pred=None, phyloP46way_placental=None, polyphen2_hvar_pred=None, polyphen2_hvar_score=0.0, sift_pred=None, sift_score=0.0, cosmic_id=None, cadd_phred=None, clinvar_id=None, clinvar_clnsigconf=None, clinvar_clnsig=None, clinvar_filter=None, gnomad_af=0.0, gnomad_ac=0.0, gnomad_an=0.0, gnomad_af_popmax=0.0, gnomad_ac_popmax=0.0, gnomad_an_popmax=0.0, gnomad_filter=None, rsa='va.rs = orElse(vds.rsid,\".\")')]"
      ]
     },
     "execution_count": 107,
     "metadata": {},
     "output_type": "execute_result"
    }
   ],
   "source": [
    "new_vcf_ann.row.take(1)"
   ]
  },
  {
   "cell_type": "code",
   "execution_count": 60,
   "metadata": {},
   "outputs": [
    {
     "name": "stderr",
     "output_type": "stream",
     "text": [
      "2019-06-18 10:36:54 Hail: INFO: Coerced sorted dataset\n"
     ]
    },
    {
     "data": {
      "text/plain": [
       "1058"
      ]
     },
     "execution_count": 60,
     "metadata": {},
     "output_type": "execute_result"
    }
   ],
   "source": [
    "new_vcf_ann.filter_cols(new_vcf_ann.nr==0).count_cols()"
   ]
  },
  {
   "cell_type": "code",
   "execution_count": 21,
   "metadata": {},
   "outputs": [
    {
     "name": "stdout",
     "output_type": "stream",
     "text": [
      "0\n",
      "1\n",
      "2\n",
      "3\n",
      "4\n",
      "5\n",
      "6\n",
      "7\n",
      "8\n",
      "9\n"
     ]
    }
   ],
   "source": [
    "for group in range(0,datamap['nr']//100):\n",
    "    print(group)"
   ]
  },
  {
   "cell_type": "code",
   "execution_count": null,
   "metadata": {},
   "outputs": [],
   "source": []
  }
 ],
 "metadata": {
  "kernelspec": {
   "display_name": "Python 3",
   "language": "python",
   "name": "python3"
  },
  "language_info": {
   "codemirror_mode": {
    "name": "ipython",
    "version": 3
   },
   "file_extension": ".py",
   "mimetype": "text/x-python",
   "name": "python",
   "nbconvert_exporter": "python",
   "pygments_lexer": "ipython3",
   "version": "3.7.3"
  }
 },
 "nbformat": 4,
 "nbformat_minor": 2
}
