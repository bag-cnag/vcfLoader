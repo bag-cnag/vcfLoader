{
 "cells": [
  {
   "cell_type": "code",
   "execution_count": 38,
   "metadata": {},
   "outputs": [],
   "source": [
    "import hail as hl"
   ]
  },
  {
   "cell_type": "code",
   "execution_count": 39,
   "metadata": {},
   "outputs": [],
   "source": [
    "new_vcf=hl.read_matrix_table(\"/home/dpiscia/RDConnect/vcfLoader/output/7.0.0/annotatedVEPdbnSFPCaddClinvarExGnomad/variants19.ht\")"
   ]
  },
  {
   "cell_type": "code",
   "execution_count": 5,
   "metadata": {},
   "outputs": [
    {
     "data": {
      "text/plain": [
       "(654768, 1058)"
      ]
     },
     "execution_count": 5,
     "metadata": {},
     "output_type": "execute_result"
    }
   ],
   "source": [
    "new_vcf.count()"
   ]
  },
  {
   "cell_type": "code",
   "execution_count": 15,
   "metadata": {},
   "outputs": [
    {
     "data": {
      "text/plain": [
       "692744544"
      ]
     },
     "execution_count": 15,
     "metadata": {},
     "output_type": "execute_result"
    }
   ],
   "source": [
    "654768*1058"
   ]
  },
  {
   "cell_type": "code",
   "execution_count": 34,
   "metadata": {},
   "outputs": [],
   "source": [
    "vcf=new_vcf.filter_entries((new_vcf.sample.gt==\"0/1\") | (new_vcf.sample.gt==\"1/1\") )"
   ]
  },
  {
   "cell_type": "code",
   "execution_count": 35,
   "metadata": {},
   "outputs": [],
   "source": [
    "vcf =  vcf.annotate_rows(ref=vcf.alleles[0],\n",
    "                       alt=vcf.alleles[1],\n",
    "                       pos=vcf.locus.position,\n",
    "                       indel=hl.cond((hl.len(vcf.alleles[0]) != (hl.len(vcf.alleles[1]))) | (hl.len(vcf.alleles[0]) != 1) | (hl.len(vcf.alleles[0]) != 1), True, False),\n",
    "                       samples_germline=hl.filter(lambda x: (x.dp > 8) & (x.gq > 20),hl.agg.collect(vcf.sample)))"
   ]
  },
  {
   "cell_type": "code",
   "execution_count": 21,
   "metadata": {},
   "outputs": [
    {
     "data": {
      "text/plain": [
       "(16504112, 1058)"
      ]
     },
     "execution_count": 21,
     "metadata": {},
     "output_type": "execute_result"
    }
   ],
   "source": [
    "#vcf.explode_rows(vcf.samples_germline).count()"
   ]
  },
  {
   "cell_type": "code",
   "execution_count": 16,
   "metadata": {},
   "outputs": [
    {
     "data": {
      "text/plain": [
       "0.015951149807973082"
      ]
     },
     "execution_count": 16,
     "metadata": {},
     "output_type": "execute_result"
    }
   ],
   "source": [
    "11050072/692744544"
   ]
  },
  {
   "cell_type": "code",
   "execution_count": 22,
   "metadata": {},
   "outputs": [
    {
     "data": {
      "text/plain": [
       "0.023824239603105413"
      ]
     },
     "execution_count": 22,
     "metadata": {},
     "output_type": "execute_result"
    }
   ],
   "source": [
    "16504112/692744544"
   ]
  },
  {
   "cell_type": "code",
   "execution_count": 36,
   "metadata": {},
   "outputs": [],
   "source": [
    "vcf=vcf.explode_rows(vcf.samples_germline).drop(\"sample\") \\\n",
    "        .rows()"
   ]
  },
  {
   "cell_type": "code",
   "execution_count": null,
   "metadata": {},
   "outputs": [],
   "source": []
  },
  {
   "cell_type": "code",
   "execution_count": null,
   "metadata": {},
   "outputs": [],
   "source": [
    "from pyspark.sql.functions import lit\n",
    "variants = vcf.to_spark().withColumn(\"chrom\",lit(19))\n",
    "variants.write.format(\"org.elasticsearch.spark.sql\").save(\"rdconnect_12/7.0.0\", mode='append')"
   ]
  },
  {
   "cell_type": "code",
   "execution_count": null,
   "metadata": {},
   "outputs": [],
   "source": []
  },
  {
   "cell_type": "code",
   "execution_count": null,
   "metadata": {},
   "outputs": [],
   "source": []
  },
  {
   "cell_type": "code",
   "execution_count": null,
   "metadata": {},
   "outputs": [],
   "source": []
  },
  {
   "cell_type": "code",
   "execution_count": null,
   "metadata": {},
   "outputs": [],
   "source": []
  },
  {
   "cell_type": "code",
   "execution_count": null,
   "metadata": {},
   "outputs": [],
   "source": []
  },
  {
   "cell_type": "code",
   "execution_count": null,
   "metadata": {},
   "outputs": [],
   "source": []
  },
  {
   "cell_type": "code",
   "execution_count": null,
   "metadata": {},
   "outputs": [],
   "source": []
  },
  {
   "cell_type": "code",
   "execution_count": 122,
   "metadata": {},
   "outputs": [
    {
     "name": "stderr",
     "output_type": "stream",
     "text": [
      "2019-06-18 11:30:51 Hail: INFO: Coerced sorted dataset\n"
     ]
    },
    {
     "data": {
      "text/plain": [
       "58"
      ]
     },
     "execution_count": 122,
     "metadata": {},
     "output_type": "execute_result"
    }
   ],
   "source": [
    "new_vcf_ann.filter_cols(new_vcf_ann.nr==10).count_cols()"
   ]
  },
  {
   "cell_type": "code",
   "execution_count": 132,
   "metadata": {},
   "outputs": [],
   "source": [
    "def truncateAt(hl, n, p):\n",
    "    \"\"\" Formats a input number to 'p' decimals\n",
    "        :param Hailcontext hl: The Hail context\n",
    "        :param String n: Number to format\n",
    "        :param String p: Decimal precision\n",
    "    \"\"\"\n",
    "    return hl.float(hl.int((10 ** hl.int(p) * n))) / (10 ** hl.int(p))"
   ]
  },
  {
   "cell_type": "code",
   "execution_count": 9,
   "metadata": {},
   "outputs": [
    {
     "name": "stderr",
     "output_type": "stream",
     "text": [
      "2019-06-20 11:24:50 Hail: ERROR: scope violation: 'MatrixTable.explode_rows' expects an expression indexed by ['row']\n",
      "    Found indices ['column', 'row'], with unexpected indices ['column']. Invalid fields:\n",
      "        'sample' (indices ['column', 'row'])\n"
     ]
    },
    {
     "ename": "ExpressionException",
     "evalue": "scope violation: 'MatrixTable.explode_rows' expects an expression indexed by ['row']\n    Found indices ['column', 'row'], with unexpected indices ['column']. Invalid fields:\n        'sample' (indices ['column', 'row'])",
     "output_type": "error",
     "traceback": [
      "\u001b[0;31m---------------------------------------------------------------------------\u001b[0m",
      "\u001b[0;31mExpressionException\u001b[0m                       Traceback (most recent call last)",
      "\u001b[0;32m<ipython-input-9-c147af4e3a6a>\u001b[0m in \u001b[0;36m<module>\u001b[0;34m\u001b[0m\n\u001b[0;32m----> 1\u001b[0;31m \u001b[0mnew_vcf\u001b[0m\u001b[0;34m.\u001b[0m\u001b[0mexplode_rows\u001b[0m\u001b[0;34m(\u001b[0m\u001b[0mnew_vcf\u001b[0m\u001b[0;34m.\u001b[0m\u001b[0msample\u001b[0m\u001b[0;34m)\u001b[0m\u001b[0;34m\u001b[0m\u001b[0;34m\u001b[0m\u001b[0m\n\u001b[0m",
      "\u001b[0;32m</home/dpiscia/anaconda3/envs/hail/lib/python3.7/site-packages/decorator.py:decorator-gen-1057>\u001b[0m in \u001b[0;36mexplode_rows\u001b[0;34m(self, field_expr)\u001b[0m\n",
      "\u001b[0;32m~/pipeline/hail/hail/build/distributions/hail-python.zip/hail/typecheck/check.py\u001b[0m in \u001b[0;36mwrapper\u001b[0;34m(__original_func, *args, **kwargs)\u001b[0m\n\u001b[1;32m    559\u001b[0m     \u001b[0;32mdef\u001b[0m \u001b[0mwrapper\u001b[0m\u001b[0;34m(\u001b[0m\u001b[0m__original_func\u001b[0m\u001b[0;34m,\u001b[0m \u001b[0;34m*\u001b[0m\u001b[0margs\u001b[0m\u001b[0;34m,\u001b[0m \u001b[0;34m**\u001b[0m\u001b[0mkwargs\u001b[0m\u001b[0;34m)\u001b[0m\u001b[0;34m:\u001b[0m\u001b[0;34m\u001b[0m\u001b[0;34m\u001b[0m\u001b[0m\n\u001b[1;32m    560\u001b[0m         \u001b[0margs_\u001b[0m\u001b[0;34m,\u001b[0m \u001b[0mkwargs_\u001b[0m \u001b[0;34m=\u001b[0m \u001b[0mcheck_all\u001b[0m\u001b[0;34m(\u001b[0m\u001b[0m__original_func\u001b[0m\u001b[0;34m,\u001b[0m \u001b[0margs\u001b[0m\u001b[0;34m,\u001b[0m \u001b[0mkwargs\u001b[0m\u001b[0;34m,\u001b[0m \u001b[0mcheckers\u001b[0m\u001b[0;34m,\u001b[0m \u001b[0mis_method\u001b[0m\u001b[0;34m=\u001b[0m\u001b[0mis_method\u001b[0m\u001b[0;34m)\u001b[0m\u001b[0;34m\u001b[0m\u001b[0;34m\u001b[0m\u001b[0m\n\u001b[0;32m--> 561\u001b[0;31m         \u001b[0;32mreturn\u001b[0m \u001b[0m__original_func\u001b[0m\u001b[0;34m(\u001b[0m\u001b[0;34m*\u001b[0m\u001b[0margs_\u001b[0m\u001b[0;34m,\u001b[0m \u001b[0;34m**\u001b[0m\u001b[0mkwargs_\u001b[0m\u001b[0;34m)\u001b[0m\u001b[0;34m\u001b[0m\u001b[0;34m\u001b[0m\u001b[0m\n\u001b[0m\u001b[1;32m    562\u001b[0m \u001b[0;34m\u001b[0m\u001b[0m\n\u001b[1;32m    563\u001b[0m     \u001b[0;32mreturn\u001b[0m \u001b[0mwrapper\u001b[0m\u001b[0;34m\u001b[0m\u001b[0;34m\u001b[0m\u001b[0m\n",
      "\u001b[0;32m~/pipeline/hail/hail/build/distributions/hail-python.zip/hail/matrixtable.py\u001b[0m in \u001b[0;36mexplode_rows\u001b[0;34m(self, field_expr)\u001b[0m\n\u001b[1;32m   2119\u001b[0m             \u001b[0mfield_expr\u001b[0m \u001b[0;34m=\u001b[0m \u001b[0mself\u001b[0m\u001b[0;34m.\u001b[0m\u001b[0m_fields\u001b[0m\u001b[0;34m[\u001b[0m\u001b[0mfield_expr\u001b[0m\u001b[0;34m]\u001b[0m\u001b[0;34m\u001b[0m\u001b[0;34m\u001b[0m\u001b[0m\n\u001b[1;32m   2120\u001b[0m         \u001b[0;32melse\u001b[0m\u001b[0;34m:\u001b[0m\u001b[0;34m\u001b[0m\u001b[0;34m\u001b[0m\u001b[0m\n\u001b[0;32m-> 2121\u001b[0;31m             \u001b[0manalyze\u001b[0m\u001b[0;34m(\u001b[0m\u001b[0;34m'MatrixTable.explode_rows'\u001b[0m\u001b[0;34m,\u001b[0m \u001b[0mfield_expr\u001b[0m\u001b[0;34m,\u001b[0m \u001b[0mself\u001b[0m\u001b[0;34m.\u001b[0m\u001b[0m_row_indices\u001b[0m\u001b[0;34m,\u001b[0m \u001b[0mset\u001b[0m\u001b[0;34m(\u001b[0m\u001b[0mself\u001b[0m\u001b[0;34m.\u001b[0m\u001b[0m_fields\u001b[0m\u001b[0;34m.\u001b[0m\u001b[0mkeys\u001b[0m\u001b[0;34m(\u001b[0m\u001b[0;34m)\u001b[0m\u001b[0;34m)\u001b[0m\u001b[0;34m)\u001b[0m\u001b[0;34m\u001b[0m\u001b[0;34m\u001b[0m\u001b[0m\n\u001b[0m\u001b[1;32m   2122\u001b[0m             \u001b[0;32mif\u001b[0m \u001b[0;32mnot\u001b[0m \u001b[0mfield_expr\u001b[0m\u001b[0;34m.\u001b[0m\u001b[0m_ir\u001b[0m\u001b[0;34m.\u001b[0m\u001b[0mis_nested_field\u001b[0m\u001b[0;34m:\u001b[0m\u001b[0;34m\u001b[0m\u001b[0;34m\u001b[0m\u001b[0m\n\u001b[1;32m   2123\u001b[0m                 raise ExpressionException(\n",
      "\u001b[0;32m</home/dpiscia/anaconda3/envs/hail/lib/python3.7/site-packages/decorator.py:decorator-gen-595>\u001b[0m in \u001b[0;36manalyze\u001b[0;34m(caller, expr, expected_indices, aggregation_axes, broadcast)\u001b[0m\n",
      "\u001b[0;32m~/pipeline/hail/hail/build/distributions/hail-python.zip/hail/typecheck/check.py\u001b[0m in \u001b[0;36mwrapper\u001b[0;34m(__original_func, *args, **kwargs)\u001b[0m\n\u001b[1;32m    559\u001b[0m     \u001b[0;32mdef\u001b[0m \u001b[0mwrapper\u001b[0m\u001b[0;34m(\u001b[0m\u001b[0m__original_func\u001b[0m\u001b[0;34m,\u001b[0m \u001b[0;34m*\u001b[0m\u001b[0margs\u001b[0m\u001b[0;34m,\u001b[0m \u001b[0;34m**\u001b[0m\u001b[0mkwargs\u001b[0m\u001b[0;34m)\u001b[0m\u001b[0;34m:\u001b[0m\u001b[0;34m\u001b[0m\u001b[0;34m\u001b[0m\u001b[0m\n\u001b[1;32m    560\u001b[0m         \u001b[0margs_\u001b[0m\u001b[0;34m,\u001b[0m \u001b[0mkwargs_\u001b[0m \u001b[0;34m=\u001b[0m \u001b[0mcheck_all\u001b[0m\u001b[0;34m(\u001b[0m\u001b[0m__original_func\u001b[0m\u001b[0;34m,\u001b[0m \u001b[0margs\u001b[0m\u001b[0;34m,\u001b[0m \u001b[0mkwargs\u001b[0m\u001b[0;34m,\u001b[0m \u001b[0mcheckers\u001b[0m\u001b[0;34m,\u001b[0m \u001b[0mis_method\u001b[0m\u001b[0;34m=\u001b[0m\u001b[0mis_method\u001b[0m\u001b[0;34m)\u001b[0m\u001b[0;34m\u001b[0m\u001b[0;34m\u001b[0m\u001b[0m\n\u001b[0;32m--> 561\u001b[0;31m         \u001b[0;32mreturn\u001b[0m \u001b[0m__original_func\u001b[0m\u001b[0;34m(\u001b[0m\u001b[0;34m*\u001b[0m\u001b[0margs_\u001b[0m\u001b[0;34m,\u001b[0m \u001b[0;34m**\u001b[0m\u001b[0mkwargs_\u001b[0m\u001b[0;34m)\u001b[0m\u001b[0;34m\u001b[0m\u001b[0;34m\u001b[0m\u001b[0m\n\u001b[0m\u001b[1;32m    562\u001b[0m \u001b[0;34m\u001b[0m\u001b[0m\n\u001b[1;32m    563\u001b[0m     \u001b[0;32mreturn\u001b[0m \u001b[0mwrapper\u001b[0m\u001b[0;34m\u001b[0m\u001b[0;34m\u001b[0m\u001b[0m\n",
      "\u001b[0;32m~/pipeline/hail/hail/build/distributions/hail-python.zip/hail/expr/expressions/expression_utils.py\u001b[0m in \u001b[0;36manalyze\u001b[0;34m(caller, expr, expected_indices, aggregation_axes, broadcast)\u001b[0m\n\u001b[1;32m    127\u001b[0m         \u001b[0;32mfor\u001b[0m \u001b[0me\u001b[0m \u001b[0;32min\u001b[0m \u001b[0merrors\u001b[0m\u001b[0;34m:\u001b[0m\u001b[0;34m\u001b[0m\u001b[0;34m\u001b[0m\u001b[0m\n\u001b[1;32m    128\u001b[0m             \u001b[0merror\u001b[0m\u001b[0;34m(\u001b[0m\u001b[0;34m'{}'\u001b[0m\u001b[0;34m.\u001b[0m\u001b[0mformat\u001b[0m\u001b[0;34m(\u001b[0m\u001b[0me\u001b[0m\u001b[0;34m.\u001b[0m\u001b[0mmsg\u001b[0m\u001b[0;34m)\u001b[0m\u001b[0;34m)\u001b[0m\u001b[0;34m\u001b[0m\u001b[0;34m\u001b[0m\u001b[0m\n\u001b[0;32m--> 129\u001b[0;31m         \u001b[0;32mraise\u001b[0m \u001b[0merrors\u001b[0m\u001b[0;34m[\u001b[0m\u001b[0;36m0\u001b[0m\u001b[0;34m]\u001b[0m\u001b[0;34m\u001b[0m\u001b[0;34m\u001b[0m\u001b[0m\n\u001b[0m\u001b[1;32m    130\u001b[0m \u001b[0;34m\u001b[0m\u001b[0m\n\u001b[1;32m    131\u001b[0m \u001b[0;34m\u001b[0m\u001b[0m\n",
      "\u001b[0;31mExpressionException\u001b[0m: scope violation: 'MatrixTable.explode_rows' expects an expression indexed by ['row']\n    Found indices ['column', 'row'], with unexpected indices ['column']. Invalid fields:\n        'sample' (indices ['column', 'row'])"
     ]
    }
   ],
   "source": [
    "new_vcf.explode_rows(new_vcf.sample)"
   ]
  },
  {
   "cell_type": "code",
   "execution_count": null,
   "metadata": {},
   "outputs": [],
   "source": []
  },
  {
   "cell_type": "code",
   "execution_count": 162,
   "metadata": {},
   "outputs": [
    {
     "name": "stdout",
     "output_type": "stream",
     "text": [
      "0\n",
      "1\n",
      "2\n",
      "3\n",
      "4\n",
      "5\n",
      "6\n",
      "7\n",
      "8\n",
      "9\n",
      "10\n"
     ]
    }
   ],
   "source": [
    "MIN_DP=8\n",
    "from pyspark.sql.functions import lit\n",
    "\n",
    "for group in range(0,datamap.get(\"nr\")//100+1):\n",
    "    print(group)\n",
    "    vcf=new_vcf_ann.filter_cols(new_vcf_ann.nr==group)\n",
    "    vcf =  vcf.annotate_rows(ref=vcf.alleles[0],\n",
    "                       alt=vcf.alleles[1],\n",
    "                       pos=vcf.locus.position,\n",
    "                       indel=hl.cond((hl.len(vcf.alleles[0]) != (hl.len(vcf.alleles[1]))) | (hl.len(vcf.alleles[0]) != 1) | (hl.len(vcf.alleles[0]) != 1), True, False),\n",
    "                       samples_germline=hl.filter(lambda x: (x.dp > 8) & (x.gq > 20),hl.agg.collect(vcf.sample)))\n",
    "    vcf = vcf.annotate_rows(freqIntGermline = hl.cond((hl.len(vcf.samples_germline) > 0) | (hl.len(hl.filter(lambda x: x.dp > MIN_DP,vcf.samples_germline)) > 0),\n",
    "        truncateAt(hl,hl.sum(hl.map(lambda x: x.gtInt.unphased_diploid_gt_index(),vcf.samples_germline))/hl.sum(hl.map(lambda x: 2,hl.filter(lambda x: x.dp > 8,vcf.samples_germline))),\"6\"), 0.0)) \\\n",
    "        .drop(\"sample\") \\\n",
    "        .rows()\n",
    "    variants = vcf.to_spark().withColumn(\"chrom\",lit(19))\n",
    "    variants.write.format(\"org.elasticsearch.spark.sql\").save(\"rdconnect_10/7.0.0\", mode='append')\n",
    "    \n",
    "    \n",
    "    \n",
    "    \n",
    "    "
   ]
  },
  {
   "cell_type": "code",
   "execution_count": 147,
   "metadata": {},
   "outputs": [],
   "source": [
    "vcf_filtered=vcf.filter_cols(vcf.nr==1)"
   ]
  },
  {
   "cell_type": "code",
   "execution_count": null,
   "metadata": {},
   "outputs": [],
   "source": [
    "drop.sample germline gtint"
   ]
  },
  {
   "cell_type": "code",
   "execution_count": 150,
   "metadata": {},
   "outputs": [
    {
     "data": {
      "text/plain": [
       "<hail.matrixtable.MatrixTable at 0x7f362286eef0>"
      ]
     },
     "execution_count": 150,
     "metadata": {},
     "output_type": "execute_result"
    }
   ],
   "source": [
    "vcf_filtered.annotate_rows(gt= vcf_filtered.alleles[0])"
   ]
  },
  {
   "cell_type": "code",
   "execution_count": 106,
   "metadata": {},
   "outputs": [],
   "source": [
    "new_vcf_ann = new_vcf.annotate_rows(rsa=hl.eval(annotationsDbSNP()))"
   ]
  },
  {
   "cell_type": "code",
   "execution_count": 107,
   "metadata": {},
   "outputs": [
    {
     "data": {
      "text/plain": [
       "[Struct(locus=Locus(contig=19, position=60251, reference_genome=GRCh37), alleles=['G', 'A'], a_index=1, was_split=False, effs=[Struct(gene_name='WASH5P', effect_impact='MODIFIER', transcript_id='ENST00000592209', effect='intron_variant,non_coding_transcript_variant', gene_id='ENSG00000225373', functional_class='transcript', amino_acid_length='', codon_change='n.406-89C>T', amino_acid_change=None, exon_rank=None, transcript_biotype='processed_transcript', gene_coding=None), Struct(gene_name='WASH5P', effect_impact='MODIFIER', transcript_id='ENST00000606546', effect='intron_variant,non_coding_transcript_variant', gene_id='ENSG00000225373', functional_class='transcript', amino_acid_length='', codon_change='n.179-89C>T', amino_acid_change=None, exon_rank=None, transcript_biotype='processed_transcript', gene_coding=None), Struct(gene_name='WASH5P', effect_impact='MODIFIER', transcript_id='ENST00000606728', effect='downstream_gene_variant', gene_id='ENSG00000225373', functional_class='transcript', amino_acid_length='', codon_change=None, amino_acid_change=None, exon_rank=None, transcript_biotype='processed_transcript', gene_coding=None), Struct(gene_name='WASH5P', effect_impact='MODIFIER', transcript_id='ENST00000606872', effect='downstream_gene_variant', gene_id='ENSG00000225373', functional_class='transcript', amino_acid_length='', codon_change=None, amino_acid_change=None, exon_rank=None, transcript_biotype='processed_transcript', gene_coding=None), Struct(gene_name='WASH5P', effect_impact='MODIFIER', transcript_id='ENST00000607444', effect='downstream_gene_variant', gene_id='ENSG00000225373', functional_class='transcript', amino_acid_length='', codon_change=None, amino_acid_change=None, exon_rank=None, transcript_biotype='processed_transcript', gene_coding=None), Struct(gene_name='WASH5P', effect_impact='MODIFIER', transcript_id='ENST00000607633', effect='downstream_gene_variant', gene_id='ENSG00000225373', functional_class='transcript', amino_acid_length='', codon_change=None, amino_acid_change=None, exon_rank=None, transcript_biotype='processed_transcript', gene_coding=None)], rs=None, gp1_asn_af=0.0, gp1_eur_af=0.0, gp1_afr_af=0.0, gp1_af=0.0, gerp_rs=None, mt=0.0, mutationtaster_pred=None, phyloP46way_placental=None, polyphen2_hvar_pred=None, polyphen2_hvar_score=0.0, sift_pred=None, sift_score=0.0, cosmic_id=None, cadd_phred=None, clinvar_id=None, clinvar_clnsigconf=None, clinvar_clnsig=None, clinvar_filter=None, gnomad_af=0.0, gnomad_ac=0.0, gnomad_an=0.0, gnomad_af_popmax=0.0, gnomad_ac_popmax=0.0, gnomad_an_popmax=0.0, gnomad_filter=None, rsa='va.rs = orElse(vds.rsid,\".\")')]"
      ]
     },
     "execution_count": 107,
     "metadata": {},
     "output_type": "execute_result"
    }
   ],
   "source": [
    "new_vcf_ann.row.take(1)"
   ]
  },
  {
   "cell_type": "code",
   "execution_count": 60,
   "metadata": {},
   "outputs": [
    {
     "name": "stderr",
     "output_type": "stream",
     "text": [
      "2019-06-18 10:36:54 Hail: INFO: Coerced sorted dataset\n"
     ]
    },
    {
     "data": {
      "text/plain": [
       "1058"
      ]
     },
     "execution_count": 60,
     "metadata": {},
     "output_type": "execute_result"
    }
   ],
   "source": [
    "new_vcf_ann.filter_cols(new_vcf_ann.nr==0).count_cols()"
   ]
  },
  {
   "cell_type": "code",
   "execution_count": 21,
   "metadata": {},
   "outputs": [
    {
     "name": "stdout",
     "output_type": "stream",
     "text": [
      "0\n",
      "1\n",
      "2\n",
      "3\n",
      "4\n",
      "5\n",
      "6\n",
      "7\n",
      "8\n",
      "9\n"
     ]
    }
   ],
   "source": [
    "for group in range(0,datamap['nr']//100):\n",
    "    print(group)"
   ]
  },
  {
   "cell_type": "code",
   "execution_count": null,
   "metadata": {},
   "outputs": [],
   "source": []
  }
 ],
 "metadata": {
  "kernelspec": {
   "display_name": "Python 3",
   "language": "python",
   "name": "python3"
  },
  "language_info": {
   "codemirror_mode": {
    "name": "ipython",
    "version": 3
   },
   "file_extension": ".py",
   "mimetype": "text/x-python",
   "name": "python",
   "nbconvert_exporter": "python",
   "pygments_lexer": "ipython3",
   "version": "3.7.3"
  }
 },
 "nbformat": 4,
 "nbformat_minor": 2
}
