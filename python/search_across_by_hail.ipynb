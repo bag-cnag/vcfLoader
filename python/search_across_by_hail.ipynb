{
 "cells": [
  {
   "cell_type": "code",
   "execution_count": 1,
   "metadata": {},
   "outputs": [],
   "source": [
    "import hail as hl"
   ]
  },
  {
   "cell_type": "code",
   "execution_count": 150,
   "metadata": {},
   "outputs": [],
   "source": [
    "new_vcf=hl.read_matrix_table(\"/home/dpiscia/RDConnect/vcfLoader/output/7.0.0/annotatedVEPdbnSFPCaddClinvarExGnomad/variants19.ht\")"
   ]
  },
  {
   "cell_type": "code",
   "execution_count": 151,
   "metadata": {},
   "outputs": [
    {
     "data": {
      "text/plain": [
       "654768"
      ]
     },
     "execution_count": 151,
     "metadata": {},
     "output_type": "execute_result"
    }
   ],
   "source": [
    "new_vcf.count_rows()"
   ]
  },
  {
   "cell_type": "code",
   "execution_count": 152,
   "metadata": {},
   "outputs": [],
   "source": [
    "new_vcf=new_vcf.filter_rows(new_vcf.locus.position < 707590)"
   ]
  },
  {
   "cell_type": "code",
   "execution_count": 153,
   "metadata": {},
   "outputs": [],
   "source": [
    "new_vcf=new_vcf.explode_rows(new_vcf.effs)"
   ]
  },
  {
   "cell_type": "code",
   "execution_count": 154,
   "metadata": {},
   "outputs": [],
   "source": [
    "new_vcf=new_vcf.filter_entries((new_vcf.sample.gt=='0/1') & (new_vcf.sample.dp > 7) & (new_vcf.sample.gq > 19))"
   ]
  },
  {
   "cell_type": "code",
   "execution_count": 155,
   "metadata": {},
   "outputs": [],
   "source": [
    "#new_vcf.filter_cols(new_vcf.s==\"EPR000831\").entry.show(10)"
   ]
  },
  {
   "cell_type": "code",
   "execution_count": 156,
   "metadata": {},
   "outputs": [],
   "source": [
    "#new_filtered=new_vcf.distinct_by_row()\n",
    "#new_filtered.filter_cols(new_filtered.s==\"EPR000831\").entry.show(10)"
   ]
  },
  {
   "cell_type": "code",
   "execution_count": 157,
   "metadata": {},
   "outputs": [],
   "source": [
    "new_vcf=new_vcf.distinct_by_row()\n",
    "new_vcf=new_vcf.group_rows_by(new_vcf.effs.gene_name).aggregate(mac = hl.agg.counter(new_vcf.sample.sample))"
   ]
  },
  {
   "cell_type": "code",
   "execution_count": 158,
   "metadata": {},
   "outputs": [
    {
     "name": "stderr",
     "output_type": "stream",
     "text": [
      "2019-06-21 10:35:13 Hail: INFO: Ordering unsorted dataset with network shuffle\n"
     ]
    },
    {
     "name": "stdout",
     "output_type": "stream",
     "text": [
      "+-----------------+-------------+---------------------------+\n",
      "| gene_name       | s           | mac                       |\n",
      "+-----------------+-------------+---------------------------+\n",
      "| str             | str         | dict<str, int64>          |\n",
      "+-----------------+-------------+---------------------------+\n",
      "| \"\"              | \"EPR000831\" | {\"EPR000831\":168,NA:1080} |\n",
      "| \"AC004156.3\"    | \"EPR000831\" | {\"EPR000831\":3,NA:32}     |\n",
      "| \"AC004449.6\"    | \"EPR000831\" | {\"EPR000831\":7,NA:58}     |\n",
      "| \"AC009005.2\"    | \"EPR000831\" | {\"EPR000831\":4,NA:92}     |\n",
      "| \"AC010641.1\"    | \"EPR000831\" | {\"EPR000831\":17,NA:102}   |\n",
      "| \"AC016626.1\"    | \"EPR000831\" | {\"EPR000831\":1,NA:11}     |\n",
      "| \"AC016626.2\"    | \"EPR000831\" | {\"EPR000831\":8,NA:126}    |\n",
      "| \"AC092299.6\"    | \"EPR000831\" | {\"EPR000831\":10,NA:72}    |\n",
      "| \"AC098474.1\"    | \"EPR000831\" | {\"EPR000831\":5,NA:44}     |\n",
      "| \"BSG\"           | \"EPR000831\" | {NA:403}                  |\n",
      "| \"C2CD4C\"        | \"EPR000831\" | {\"EPR000831\":5,NA:248}    |\n",
      "| \"CDC34\"         | \"EPR000831\" | {\"EPR000831\":76,NA:406}   |\n",
      "| \"CTD-3113P16.7\" | \"EPR000831\" | {\"EPR000831\":9,NA:72}     |\n",
      "| \"CTD-3113P16.9\" | \"EPR000831\" | {\"EPR000831\":52,NA:82}    |\n",
      "| \"FAM138F\"       | \"EPR000831\" | {\"EPR000831\":7,NA:43}     |\n",
      "| \"FGF22\"         | \"EPR000831\" | {\"EPR000831\":40,NA:272}   |\n",
      "| \"FSTL3\"         | \"EPR000831\" | {\"EPR000831\":38,NA:230}   |\n",
      "| \"GZMM\"          | \"EPR000831\" | {\"EPR000831\":9,NA:182}    |\n",
      "| \"HCN2\"          | \"EPR000831\" | {\"EPR000831\":29,NA:933}   |\n",
      "| \"LINC01002\"     | \"EPR000831\" | {\"EPR000831\":2,NA:75}     |\n",
      "| \"MADCAM1\"       | \"EPR000831\" | {\"EPR000831\":75,NA:422}   |\n",
      "| \"MIER2\"         | \"EPR000831\" | {\"EPR000831\":60,NA:778}   |\n",
      "| \"ODF3L2\"        | \"EPR000831\" | {\"EPR000831\":2,NA:253}    |\n",
      "| \"OR4F17\"        | \"EPR000831\" | {\"EPR000831\":8,NA:149}    |\n",
      "| \"OR4G1P\"        | \"EPR000831\" | {\"EPR000831\":1,NA:15}     |\n",
      "| \"OR4G3P\"        | \"EPR000831\" | {\"EPR000831\":12,NA:106}   |\n",
      "| \"PALM\"          | \"EPR000831\" | {\"EPR000831\":6,NA:31}     |\n",
      "| \"POLRMT\"        | \"EPR000831\" | {\"EPR000831\":22,NA:184}   |\n",
      "| \"PPAP2C\"        | \"EPR000831\" | {\"EPR000831\":53,NA:200}   |\n",
      "| \"PRSS57\"        | \"EPR000831\" | {\"EPR000831\":58,NA:221}   |\n",
      "| \"RNF126\"        | \"EPR000831\" | {\"EPR000831\":34,NA:266}   |\n",
      "| \"RNU6-1076P\"    | \"EPR000831\" | {\"EPR000831\":3,NA:49}     |\n",
      "| \"SHC2\"          | \"EPR000831\" | {\"EPR000831\":39,NA:919}   |\n",
      "| \"THEG\"          | \"EPR000831\" | {\"EPR000831\":54,NA:440}   |\n",
      "| \"TPGS1\"         | \"EPR000831\" | {\"EPR000831\":42,NA:233}   |\n",
      "| \"VN2R11P\"       | \"EPR000831\" | {\"EPR000831\":1,NA:13}     |\n",
      "| \"WASH5P\"        | \"EPR000831\" | {\"EPR000831\":4,NA:68}     |\n",
      "+-----------------+-------------+---------------------------+\n",
      "\n"
     ]
    }
   ],
   "source": [
    "new_vcf.filter_cols(new_vcf.s==\"EPR000831\").entry.show(50)"
   ]
  },
  {
   "cell_type": "code",
   "execution_count": 168,
   "metadata": {},
   "outputs": [
    {
     "name": "stderr",
     "output_type": "stream",
     "text": [
      "2019-06-21 12:45:02 Hail: INFO: Ordering unsorted dataset with network shuffle\n"
     ]
    },
    {
     "name": "stdout",
     "output_type": "stream",
     "text": [
      "{\"gene_name\":\"\"}\n",
      "{\"gene_name\":\"AC004156.3\"}\n",
      "{\"gene_name\":\"AC004449.6\"}\n",
      "{\"gene_name\":\"AC009005.2\"}\n",
      "{\"gene_name\":\"AC010641.1\"}\n",
      "{\"gene_name\":\"AC016626.1\"}\n",
      "{\"gene_name\":\"AC016626.2\"}\n",
      "{\"gene_name\":\"AC092299.6\"}\n",
      "{\"gene_name\":\"AC098474.1\"}\n",
      "{\"gene_name\":\"BSG\"}\n",
      "{\"gene_name\":\"C2CD4C\"}\n",
      "{\"gene_name\":\"CDC34\"}\n",
      "{\"gene_name\":\"CTD-3113P16.7\"}\n",
      "{\"gene_name\":\"CTD-3113P16.9\"}\n",
      "{\"gene_name\":\"FAM138F\"}\n",
      "{\"gene_name\":\"FGF22\"}\n",
      "{\"gene_name\":\"FSTL3\"}\n",
      "{\"gene_name\":\"GZMM\"}\n",
      "{\"gene_name\":\"HCN2\"}\n",
      "{\"gene_name\":\"LINC01002\"}\n",
      "{\"gene_name\":\"MADCAM1\"}\n",
      "{\"gene_name\":\"MIER2\"}\n",
      "{\"gene_name\":\"ODF3L2\"}\n",
      "{\"gene_name\":\"OR4F17\"}\n",
      "{\"gene_name\":\"OR4G1P\"}\n",
      "{\"gene_name\":\"OR4G3P\"}\n",
      "{\"gene_name\":\"PALM\"}\n",
      "{\"gene_name\":\"POLRMT\"}\n",
      "{\"gene_name\":\"PPAP2C\"}\n",
      "{\"gene_name\":\"PRSS57\"}\n",
      "{\"gene_name\":\"RNF126\"}\n",
      "{\"gene_name\":\"RNU6-1076P\"}\n",
      "{\"gene_name\":\"SHC2\"}\n",
      "{\"gene_name\":\"THEG\"}\n",
      "{\"gene_name\":\"TPGS1\"}\n",
      "{\"gene_name\":\"VN2R11P\"}\n",
      "{\"gene_name\":\"WASH5P\"}\n"
     ]
    }
   ],
   "source": [
    "for  i in new_vcf.rows().to_spark().toJSON().take(100):\n",
    "    print(i)"
   ]
  },
  {
   "cell_type": "code",
   "execution_count": 162,
   "metadata": {},
   "outputs": [
    {
     "name": "stdout",
     "output_type": "stream",
     "text": [
      "----------------------------------------\n",
      "Global fields:\n",
      "    None\n",
      "----------------------------------------\n",
      "Column fields:\n",
      "    's': str\n",
      "----------------------------------------\n",
      "Row fields:\n",
      "    'gene_name': str\n",
      "----------------------------------------\n",
      "Entry fields:\n",
      "    'mac': dict<str, int64>\n",
      "----------------------------------------\n",
      "Column key: ['s']\n",
      "Row key: ['gene_name']\n",
      "----------------------------------------\n"
     ]
    }
   ],
   "source": [
    "new_vcf.describe()"
   ]
  },
  {
   "cell_type": "code",
   "execution_count": 19,
   "metadata": {},
   "outputs": [
    {
     "name": "stdout",
     "output_type": "stream",
     "text": [
      "----------------------------------------\n",
      "Global fields:\n",
      "    None\n",
      "----------------------------------------\n",
      "Column fields:\n",
      "    's': str\n",
      "----------------------------------------\n",
      "Row fields:\n",
      "    'gene_id': str\n",
      "----------------------------------------\n",
      "Entry fields:\n",
      "    'mac': int64\n",
      "----------------------------------------\n",
      "Column key: ['s']\n",
      "Row key: ['gene_id']\n",
      "----------------------------------------\n"
     ]
    }
   ],
   "source": [
    "new_vcf.describe()"
   ]
  },
  {
   "cell_type": "code",
   "execution_count": null,
   "metadata": {},
   "outputs": [],
   "source": []
  }
 ],
 "metadata": {
  "kernelspec": {
   "display_name": "Python 3",
   "language": "python",
   "name": "python3"
  },
  "language_info": {
   "codemirror_mode": {
    "name": "ipython",
    "version": 3
   },
   "file_extension": ".py",
   "mimetype": "text/x-python",
   "name": "python",
   "nbconvert_exporter": "python",
   "pygments_lexer": "ipython3",
   "version": "3.7.3"
  }
 },
 "nbformat": 4,
 "nbformat_minor": 2
}
