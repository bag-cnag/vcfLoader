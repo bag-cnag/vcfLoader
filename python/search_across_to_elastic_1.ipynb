{
 "cells": [
  {
   "cell_type": "code",
   "execution_count": 1,
   "metadata": {},
   "outputs": [],
   "source": [
    "import hail as hl"
   ]
  },
  {
   "cell_type": "code",
   "execution_count": 22,
   "metadata": {},
   "outputs": [],
   "source": [
    "new_vcf=hl.read_matrix_table(\"/home/dpiscia/RDConnect/vcfLoader/output/7.0.0/annotatedVEPdbnSFPCaddClinvarExGnomad/variants19.ht\")"
   ]
  },
  {
   "cell_type": "code",
   "execution_count": 23,
   "metadata": {},
   "outputs": [
    {
     "data": {
      "text/plain": [
       "654768"
      ]
     },
     "execution_count": 23,
     "metadata": {},
     "output_type": "execute_result"
    }
   ],
   "source": [
    "new_vcf.count_rows()"
   ]
  },
  {
   "cell_type": "code",
   "execution_count": 24,
   "metadata": {},
   "outputs": [],
   "source": [
    "new_vcf=new_vcf.filter_rows(new_vcf.locus.position < 60659)"
   ]
  },
  {
   "cell_type": "code",
   "execution_count": 25,
   "metadata": {},
   "outputs": [],
   "source": [
    "vcf=new_vcf.filter_entries((new_vcf.sample.gt==\"0/1\") | (new_vcf.sample.gt==\"1/1\") )"
   ]
  },
  {
   "cell_type": "code",
   "execution_count": 26,
   "metadata": {},
   "outputs": [],
   "source": [
    "vcf =  vcf.annotate_rows(ref=vcf.alleles[0],\n",
    "                       alt=vcf.alleles[1],\n",
    "                       pos=vcf.locus.position,\n",
    "                       indel=hl.cond((hl.len(vcf.alleles[0]) != (hl.len(vcf.alleles[1]))) | (hl.len(vcf.alleles[0]) != 1) | (hl.len(vcf.alleles[0]) != 1), True, False),\n",
    "                       samples_germline=hl.filter(lambda x: (x.dp > 8) & (x.gq > 20),hl.agg.collect(vcf.sample)))"
   ]
  },
  {
   "cell_type": "code",
   "execution_count": 27,
   "metadata": {},
   "outputs": [],
   "source": [
    "vcf=vcf.explode_rows(vcf.samples_germline).drop(\"sample\").rows()"
   ]
  },
  {
   "cell_type": "code",
   "execution_count": 29,
   "metadata": {},
   "outputs": [
    {
     "ename": "FatalError",
     "evalue": "TaskCompletionListenerException: Could not write all entries for bulk operation [287/287]. Error sample (first [5] error messages):\n\tCannot add a value for field [samples_germline.sample] since one of the intermediate objects is mapped as a nested object: [samples_germline]\n\tCannot add a value for field [samples_germline.sample] since one of the intermediate objects is mapped as a nested object: [samples_germline]\n\tCannot add a value for field [samples_germline.sample] since one of the intermediate objects is mapped as a nested object: [samples_germline]\n\tCannot add a value for field [samples_germline.sample] since one of the intermediate objects is mapped as a nested object: [samples_germline]\n\tCannot add a value for field [samples_germline.sample] since one of the intermediate objects is mapped as a nested object: [samples_germline]\nBailing out...\n\nJava stack trace:\norg.apache.spark.SparkException: Job aborted due to stage failure: Task 0 in stage 4.0 failed 1 times, most recent failure: Lost task 0.0 in stage 4.0 (TID 11, localhost, executor driver): org.apache.spark.util.TaskCompletionListenerException: Could not write all entries for bulk operation [287/287]. Error sample (first [5] error messages):\n\tCannot add a value for field [samples_germline.sample] since one of the intermediate objects is mapped as a nested object: [samples_germline]\n\tCannot add a value for field [samples_germline.sample] since one of the intermediate objects is mapped as a nested object: [samples_germline]\n\tCannot add a value for field [samples_germline.sample] since one of the intermediate objects is mapped as a nested object: [samples_germline]\n\tCannot add a value for field [samples_germline.sample] since one of the intermediate objects is mapped as a nested object: [samples_germline]\n\tCannot add a value for field [samples_germline.sample] since one of the intermediate objects is mapped as a nested object: [samples_germline]\nBailing out...\n\tat org.apache.spark.TaskContextImpl.invokeListeners(TaskContextImpl.scala:139)\n\tat org.apache.spark.TaskContextImpl.markTaskCompleted(TaskContextImpl.scala:117)\n\tat org.apache.spark.scheduler.Task.run(Task.scala:125)\n\tat org.apache.spark.executor.Executor$TaskRunner.run(Executor.scala:345)\n\tat java.util.concurrent.ThreadPoolExecutor.runWorker(ThreadPoolExecutor.java:1149)\n\tat java.util.concurrent.ThreadPoolExecutor$Worker.run(ThreadPoolExecutor.java:624)\n\tat java.lang.Thread.run(Thread.java:748)\n\nDriver stacktrace:\n\tat org.apache.spark.scheduler.DAGScheduler.org$apache$spark$scheduler$DAGScheduler$$failJobAndIndependentStages(DAGScheduler.scala:1661)\n\tat org.apache.spark.scheduler.DAGScheduler$$anonfun$abortStage$1.apply(DAGScheduler.scala:1649)\n\tat org.apache.spark.scheduler.DAGScheduler$$anonfun$abortStage$1.apply(DAGScheduler.scala:1648)\n\tat scala.collection.mutable.ResizableArray$class.foreach(ResizableArray.scala:59)\n\tat scala.collection.mutable.ArrayBuffer.foreach(ArrayBuffer.scala:48)\n\tat org.apache.spark.scheduler.DAGScheduler.abortStage(DAGScheduler.scala:1648)\n\tat org.apache.spark.scheduler.DAGScheduler$$anonfun$handleTaskSetFailed$1.apply(DAGScheduler.scala:831)\n\tat org.apache.spark.scheduler.DAGScheduler$$anonfun$handleTaskSetFailed$1.apply(DAGScheduler.scala:831)\n\tat scala.Option.foreach(Option.scala:257)\n\tat org.apache.spark.scheduler.DAGScheduler.handleTaskSetFailed(DAGScheduler.scala:831)\n\tat org.apache.spark.scheduler.DAGSchedulerEventProcessLoop.doOnReceive(DAGScheduler.scala:1882)\n\tat org.apache.spark.scheduler.DAGSchedulerEventProcessLoop.onReceive(DAGScheduler.scala:1831)\n\tat org.apache.spark.scheduler.DAGSchedulerEventProcessLoop.onReceive(DAGScheduler.scala:1820)\n\tat org.apache.spark.util.EventLoop$$anon$1.run(EventLoop.scala:48)\n\tat org.apache.spark.scheduler.DAGScheduler.runJob(DAGScheduler.scala:642)\n\tat org.apache.spark.SparkContext.runJob(SparkContext.scala:2034)\n\tat org.apache.spark.SparkContext.runJob(SparkContext.scala:2055)\n\tat org.apache.spark.SparkContext.runJob(SparkContext.scala:2087)\n\tat org.elasticsearch.spark.sql.EsSparkSQL$.saveToEs(EsSparkSQL.scala:101)\n\tat org.elasticsearch.spark.sql.ElasticsearchRelation.insert(DefaultSource.scala:610)\n\tat org.elasticsearch.spark.sql.DefaultSource.createRelation(DefaultSource.scala:103)\n\tat org.apache.spark.sql.execution.datasources.SaveIntoDataSourceCommand.run(SaveIntoDataSourceCommand.scala:45)\n\tat org.apache.spark.sql.execution.command.ExecutedCommandExec.sideEffectResult$lzycompute(commands.scala:70)\n\tat org.apache.spark.sql.execution.command.ExecutedCommandExec.sideEffectResult(commands.scala:68)\n\tat org.apache.spark.sql.execution.command.ExecutedCommandExec.doExecute(commands.scala:86)\n\tat org.apache.spark.sql.execution.SparkPlan$$anonfun$execute$1.apply(SparkPlan.scala:131)\n\tat org.apache.spark.sql.execution.SparkPlan$$anonfun$execute$1.apply(SparkPlan.scala:127)\n\tat org.apache.spark.sql.execution.SparkPlan$$anonfun$executeQuery$1.apply(SparkPlan.scala:155)\n\tat org.apache.spark.rdd.RDDOperationScope$.withScope(RDDOperationScope.scala:151)\n\tat org.apache.spark.sql.execution.SparkPlan.executeQuery(SparkPlan.scala:152)\n\tat org.apache.spark.sql.execution.SparkPlan.execute(SparkPlan.scala:127)\n\tat org.apache.spark.sql.execution.QueryExecution.toRdd$lzycompute(QueryExecution.scala:80)\n\tat org.apache.spark.sql.execution.QueryExecution.toRdd(QueryExecution.scala:80)\n\tat org.apache.spark.sql.DataFrameWriter$$anonfun$runCommand$1.apply(DataFrameWriter.scala:656)\n\tat org.apache.spark.sql.DataFrameWriter$$anonfun$runCommand$1.apply(DataFrameWriter.scala:656)\n\tat org.apache.spark.sql.execution.SQLExecution$.withNewExecutionId(SQLExecution.scala:77)\n\tat org.apache.spark.sql.DataFrameWriter.runCommand(DataFrameWriter.scala:656)\n\tat org.apache.spark.sql.DataFrameWriter.saveToV1Source(DataFrameWriter.scala:273)\n\tat org.apache.spark.sql.DataFrameWriter.save(DataFrameWriter.scala:267)\n\tat org.apache.spark.sql.DataFrameWriter.save(DataFrameWriter.scala:225)\n\tat sun.reflect.NativeMethodAccessorImpl.invoke0(Native Method)\n\tat sun.reflect.NativeMethodAccessorImpl.invoke(NativeMethodAccessorImpl.java:62)\n\tat sun.reflect.DelegatingMethodAccessorImpl.invoke(DelegatingMethodAccessorImpl.java:43)\n\tat java.lang.reflect.Method.invoke(Method.java:498)\n\tat py4j.reflection.MethodInvoker.invoke(MethodInvoker.java:244)\n\tat py4j.reflection.ReflectionEngine.invoke(ReflectionEngine.java:357)\n\tat py4j.Gateway.invoke(Gateway.java:282)\n\tat py4j.commands.AbstractCommand.invokeMethod(AbstractCommand.java:132)\n\tat py4j.commands.CallCommand.execute(CallCommand.java:79)\n\tat py4j.GatewayConnection.run(GatewayConnection.java:238)\n\tat java.lang.Thread.run(Thread.java:748)\n\norg.apache.spark.util.TaskCompletionListenerException: Could not write all entries for bulk operation [287/287]. Error sample (first [5] error messages):\n\tCannot add a value for field [samples_germline.sample] since one of the intermediate objects is mapped as a nested object: [samples_germline]\n\tCannot add a value for field [samples_germline.sample] since one of the intermediate objects is mapped as a nested object: [samples_germline]\n\tCannot add a value for field [samples_germline.sample] since one of the intermediate objects is mapped as a nested object: [samples_germline]\n\tCannot add a value for field [samples_germline.sample] since one of the intermediate objects is mapped as a nested object: [samples_germline]\n\tCannot add a value for field [samples_germline.sample] since one of the intermediate objects is mapped as a nested object: [samples_germline]\nBailing out...\n\tat org.apache.spark.TaskContextImpl.invokeListeners(TaskContextImpl.scala:139)\n\tat org.apache.spark.TaskContextImpl.markTaskCompleted(TaskContextImpl.scala:117)\n\tat org.apache.spark.scheduler.Task.run(Task.scala:125)\n\tat org.apache.spark.executor.Executor$TaskRunner.run(Executor.scala:345)\n\tat java.util.concurrent.ThreadPoolExecutor.runWorker(ThreadPoolExecutor.java:1149)\n\tat java.util.concurrent.ThreadPoolExecutor$Worker.run(ThreadPoolExecutor.java:624)\n\tat java.lang.Thread.run(Thread.java:748)\n\n\n\n\nHail version: 0.2.14-8dcb6722c72a\nError summary: TaskCompletionListenerException: Could not write all entries for bulk operation [287/287]. Error sample (first [5] error messages):\n\tCannot add a value for field [samples_germline.sample] since one of the intermediate objects is mapped as a nested object: [samples_germline]\n\tCannot add a value for field [samples_germline.sample] since one of the intermediate objects is mapped as a nested object: [samples_germline]\n\tCannot add a value for field [samples_germline.sample] since one of the intermediate objects is mapped as a nested object: [samples_germline]\n\tCannot add a value for field [samples_germline.sample] since one of the intermediate objects is mapped as a nested object: [samples_germline]\n\tCannot add a value for field [samples_germline.sample] since one of the intermediate objects is mapped as a nested object: [samples_germline]\nBailing out...",
     "output_type": "error",
     "traceback": [
      "\u001b[0;31m---------------------------------------------------------------------------\u001b[0m",
      "\u001b[0;31mFatalError\u001b[0m                                Traceback (most recent call last)",
      "\u001b[0;32m<ipython-input-29-f66fb8af0ff1>\u001b[0m in \u001b[0;36m<module>\u001b[0;34m\u001b[0m\n\u001b[1;32m      1\u001b[0m \u001b[0;32mfrom\u001b[0m \u001b[0mpyspark\u001b[0m\u001b[0;34m.\u001b[0m\u001b[0msql\u001b[0m\u001b[0;34m.\u001b[0m\u001b[0mfunctions\u001b[0m \u001b[0;32mimport\u001b[0m \u001b[0mlit\u001b[0m\u001b[0;34m\u001b[0m\u001b[0;34m\u001b[0m\u001b[0m\n\u001b[1;32m      2\u001b[0m \u001b[0mvariants\u001b[0m \u001b[0;34m=\u001b[0m \u001b[0mvcf\u001b[0m\u001b[0;34m.\u001b[0m\u001b[0mto_spark\u001b[0m\u001b[0;34m(\u001b[0m\u001b[0;34m)\u001b[0m\u001b[0;34m.\u001b[0m\u001b[0mwithColumn\u001b[0m\u001b[0;34m(\u001b[0m\u001b[0;34m\"chrom\"\u001b[0m\u001b[0;34m,\u001b[0m\u001b[0mlit\u001b[0m\u001b[0;34m(\u001b[0m\u001b[0;36m19\u001b[0m\u001b[0;34m)\u001b[0m\u001b[0;34m)\u001b[0m\u001b[0;34m\u001b[0m\u001b[0;34m\u001b[0m\u001b[0m\n\u001b[0;32m----> 3\u001b[0;31m \u001b[0mvariants\u001b[0m\u001b[0;34m.\u001b[0m\u001b[0mwrite\u001b[0m\u001b[0;34m.\u001b[0m\u001b[0mformat\u001b[0m\u001b[0;34m(\u001b[0m\u001b[0;34m\"org.elasticsearch.spark.sql\"\u001b[0m\u001b[0;34m)\u001b[0m\u001b[0;34m.\u001b[0m\u001b[0msave\u001b[0m\u001b[0;34m(\u001b[0m\u001b[0;34m\"rdconnect_13_reduced/7.0.0\"\u001b[0m\u001b[0;34m,\u001b[0m \u001b[0mmode\u001b[0m\u001b[0;34m=\u001b[0m\u001b[0;34m'append'\u001b[0m\u001b[0;34m)\u001b[0m\u001b[0;34m\u001b[0m\u001b[0;34m\u001b[0m\u001b[0m\n\u001b[0m",
      "\u001b[0;32m~/pipeline/spark/spark-2.3.3-bin-hadoop2.7/python/pyspark/sql/readwriter.py\u001b[0m in \u001b[0;36msave\u001b[0;34m(self, path, format, mode, partitionBy, **options)\u001b[0m\n\u001b[1;32m    703\u001b[0m             \u001b[0mself\u001b[0m\u001b[0;34m.\u001b[0m\u001b[0m_jwrite\u001b[0m\u001b[0;34m.\u001b[0m\u001b[0msave\u001b[0m\u001b[0;34m(\u001b[0m\u001b[0;34m)\u001b[0m\u001b[0;34m\u001b[0m\u001b[0;34m\u001b[0m\u001b[0m\n\u001b[1;32m    704\u001b[0m         \u001b[0;32melse\u001b[0m\u001b[0;34m:\u001b[0m\u001b[0;34m\u001b[0m\u001b[0;34m\u001b[0m\u001b[0m\n\u001b[0;32m--> 705\u001b[0;31m             \u001b[0mself\u001b[0m\u001b[0;34m.\u001b[0m\u001b[0m_jwrite\u001b[0m\u001b[0;34m.\u001b[0m\u001b[0msave\u001b[0m\u001b[0;34m(\u001b[0m\u001b[0mpath\u001b[0m\u001b[0;34m)\u001b[0m\u001b[0;34m\u001b[0m\u001b[0;34m\u001b[0m\u001b[0m\n\u001b[0m\u001b[1;32m    706\u001b[0m \u001b[0;34m\u001b[0m\u001b[0m\n\u001b[1;32m    707\u001b[0m     \u001b[0;34m@\u001b[0m\u001b[0msince\u001b[0m\u001b[0;34m(\u001b[0m\u001b[0;36m1.4\u001b[0m\u001b[0;34m)\u001b[0m\u001b[0;34m\u001b[0m\u001b[0;34m\u001b[0m\u001b[0m\n",
      "\u001b[0;32m~/pipeline/spark/spark-2.3.3-bin-hadoop2.7/python/lib/py4j-0.10.7-src.zip/py4j/java_gateway.py\u001b[0m in \u001b[0;36m__call__\u001b[0;34m(self, *args)\u001b[0m\n\u001b[1;32m   1255\u001b[0m         \u001b[0manswer\u001b[0m \u001b[0;34m=\u001b[0m \u001b[0mself\u001b[0m\u001b[0;34m.\u001b[0m\u001b[0mgateway_client\u001b[0m\u001b[0;34m.\u001b[0m\u001b[0msend_command\u001b[0m\u001b[0;34m(\u001b[0m\u001b[0mcommand\u001b[0m\u001b[0;34m)\u001b[0m\u001b[0;34m\u001b[0m\u001b[0;34m\u001b[0m\u001b[0m\n\u001b[1;32m   1256\u001b[0m         return_value = get_return_value(\n\u001b[0;32m-> 1257\u001b[0;31m             answer, self.gateway_client, self.target_id, self.name)\n\u001b[0m\u001b[1;32m   1258\u001b[0m \u001b[0;34m\u001b[0m\u001b[0m\n\u001b[1;32m   1259\u001b[0m         \u001b[0;32mfor\u001b[0m \u001b[0mtemp_arg\u001b[0m \u001b[0;32min\u001b[0m \u001b[0mtemp_args\u001b[0m\u001b[0;34m:\u001b[0m\u001b[0;34m\u001b[0m\u001b[0;34m\u001b[0m\u001b[0m\n",
      "\u001b[0;32m~/pipeline/hail/hail/build/distributions/hail-python.zip/hail/utils/java.py\u001b[0m in \u001b[0;36mdeco\u001b[0;34m(*args, **kwargs)\u001b[0m\n\u001b[1;32m    238\u001b[0m             raise FatalError('%s\\n\\nJava stack trace:\\n%s\\n'\n\u001b[1;32m    239\u001b[0m                              \u001b[0;34m'Hail version: %s\\n'\u001b[0m\u001b[0;34m\u001b[0m\u001b[0;34m\u001b[0m\u001b[0m\n\u001b[0;32m--> 240\u001b[0;31m                              'Error summary: %s' % (deepest, full, hail.__version__, deepest)) from None\n\u001b[0m\u001b[1;32m    241\u001b[0m         \u001b[0;32mexcept\u001b[0m \u001b[0mpyspark\u001b[0m\u001b[0;34m.\u001b[0m\u001b[0msql\u001b[0m\u001b[0;34m.\u001b[0m\u001b[0mutils\u001b[0m\u001b[0;34m.\u001b[0m\u001b[0mCapturedException\u001b[0m \u001b[0;32mas\u001b[0m \u001b[0me\u001b[0m\u001b[0;34m:\u001b[0m\u001b[0;34m\u001b[0m\u001b[0;34m\u001b[0m\u001b[0m\n\u001b[1;32m    242\u001b[0m             raise FatalError('%s\\n\\nJava stack trace:\\n%s\\n'\n",
      "\u001b[0;31mFatalError\u001b[0m: TaskCompletionListenerException: Could not write all entries for bulk operation [287/287]. Error sample (first [5] error messages):\n\tCannot add a value for field [samples_germline.sample] since one of the intermediate objects is mapped as a nested object: [samples_germline]\n\tCannot add a value for field [samples_germline.sample] since one of the intermediate objects is mapped as a nested object: [samples_germline]\n\tCannot add a value for field [samples_germline.sample] since one of the intermediate objects is mapped as a nested object: [samples_germline]\n\tCannot add a value for field [samples_germline.sample] since one of the intermediate objects is mapped as a nested object: [samples_germline]\n\tCannot add a value for field [samples_germline.sample] since one of the intermediate objects is mapped as a nested object: [samples_germline]\nBailing out...\n\nJava stack trace:\norg.apache.spark.SparkException: Job aborted due to stage failure: Task 0 in stage 4.0 failed 1 times, most recent failure: Lost task 0.0 in stage 4.0 (TID 11, localhost, executor driver): org.apache.spark.util.TaskCompletionListenerException: Could not write all entries for bulk operation [287/287]. Error sample (first [5] error messages):\n\tCannot add a value for field [samples_germline.sample] since one of the intermediate objects is mapped as a nested object: [samples_germline]\n\tCannot add a value for field [samples_germline.sample] since one of the intermediate objects is mapped as a nested object: [samples_germline]\n\tCannot add a value for field [samples_germline.sample] since one of the intermediate objects is mapped as a nested object: [samples_germline]\n\tCannot add a value for field [samples_germline.sample] since one of the intermediate objects is mapped as a nested object: [samples_germline]\n\tCannot add a value for field [samples_germline.sample] since one of the intermediate objects is mapped as a nested object: [samples_germline]\nBailing out...\n\tat org.apache.spark.TaskContextImpl.invokeListeners(TaskContextImpl.scala:139)\n\tat org.apache.spark.TaskContextImpl.markTaskCompleted(TaskContextImpl.scala:117)\n\tat org.apache.spark.scheduler.Task.run(Task.scala:125)\n\tat org.apache.spark.executor.Executor$TaskRunner.run(Executor.scala:345)\n\tat java.util.concurrent.ThreadPoolExecutor.runWorker(ThreadPoolExecutor.java:1149)\n\tat java.util.concurrent.ThreadPoolExecutor$Worker.run(ThreadPoolExecutor.java:624)\n\tat java.lang.Thread.run(Thread.java:748)\n\nDriver stacktrace:\n\tat org.apache.spark.scheduler.DAGScheduler.org$apache$spark$scheduler$DAGScheduler$$failJobAndIndependentStages(DAGScheduler.scala:1661)\n\tat org.apache.spark.scheduler.DAGScheduler$$anonfun$abortStage$1.apply(DAGScheduler.scala:1649)\n\tat org.apache.spark.scheduler.DAGScheduler$$anonfun$abortStage$1.apply(DAGScheduler.scala:1648)\n\tat scala.collection.mutable.ResizableArray$class.foreach(ResizableArray.scala:59)\n\tat scala.collection.mutable.ArrayBuffer.foreach(ArrayBuffer.scala:48)\n\tat org.apache.spark.scheduler.DAGScheduler.abortStage(DAGScheduler.scala:1648)\n\tat org.apache.spark.scheduler.DAGScheduler$$anonfun$handleTaskSetFailed$1.apply(DAGScheduler.scala:831)\n\tat org.apache.spark.scheduler.DAGScheduler$$anonfun$handleTaskSetFailed$1.apply(DAGScheduler.scala:831)\n\tat scala.Option.foreach(Option.scala:257)\n\tat org.apache.spark.scheduler.DAGScheduler.handleTaskSetFailed(DAGScheduler.scala:831)\n\tat org.apache.spark.scheduler.DAGSchedulerEventProcessLoop.doOnReceive(DAGScheduler.scala:1882)\n\tat org.apache.spark.scheduler.DAGSchedulerEventProcessLoop.onReceive(DAGScheduler.scala:1831)\n\tat org.apache.spark.scheduler.DAGSchedulerEventProcessLoop.onReceive(DAGScheduler.scala:1820)\n\tat org.apache.spark.util.EventLoop$$anon$1.run(EventLoop.scala:48)\n\tat org.apache.spark.scheduler.DAGScheduler.runJob(DAGScheduler.scala:642)\n\tat org.apache.spark.SparkContext.runJob(SparkContext.scala:2034)\n\tat org.apache.spark.SparkContext.runJob(SparkContext.scala:2055)\n\tat org.apache.spark.SparkContext.runJob(SparkContext.scala:2087)\n\tat org.elasticsearch.spark.sql.EsSparkSQL$.saveToEs(EsSparkSQL.scala:101)\n\tat org.elasticsearch.spark.sql.ElasticsearchRelation.insert(DefaultSource.scala:610)\n\tat org.elasticsearch.spark.sql.DefaultSource.createRelation(DefaultSource.scala:103)\n\tat org.apache.spark.sql.execution.datasources.SaveIntoDataSourceCommand.run(SaveIntoDataSourceCommand.scala:45)\n\tat org.apache.spark.sql.execution.command.ExecutedCommandExec.sideEffectResult$lzycompute(commands.scala:70)\n\tat org.apache.spark.sql.execution.command.ExecutedCommandExec.sideEffectResult(commands.scala:68)\n\tat org.apache.spark.sql.execution.command.ExecutedCommandExec.doExecute(commands.scala:86)\n\tat org.apache.spark.sql.execution.SparkPlan$$anonfun$execute$1.apply(SparkPlan.scala:131)\n\tat org.apache.spark.sql.execution.SparkPlan$$anonfun$execute$1.apply(SparkPlan.scala:127)\n\tat org.apache.spark.sql.execution.SparkPlan$$anonfun$executeQuery$1.apply(SparkPlan.scala:155)\n\tat org.apache.spark.rdd.RDDOperationScope$.withScope(RDDOperationScope.scala:151)\n\tat org.apache.spark.sql.execution.SparkPlan.executeQuery(SparkPlan.scala:152)\n\tat org.apache.spark.sql.execution.SparkPlan.execute(SparkPlan.scala:127)\n\tat org.apache.spark.sql.execution.QueryExecution.toRdd$lzycompute(QueryExecution.scala:80)\n\tat org.apache.spark.sql.execution.QueryExecution.toRdd(QueryExecution.scala:80)\n\tat org.apache.spark.sql.DataFrameWriter$$anonfun$runCommand$1.apply(DataFrameWriter.scala:656)\n\tat org.apache.spark.sql.DataFrameWriter$$anonfun$runCommand$1.apply(DataFrameWriter.scala:656)\n\tat org.apache.spark.sql.execution.SQLExecution$.withNewExecutionId(SQLExecution.scala:77)\n\tat org.apache.spark.sql.DataFrameWriter.runCommand(DataFrameWriter.scala:656)\n\tat org.apache.spark.sql.DataFrameWriter.saveToV1Source(DataFrameWriter.scala:273)\n\tat org.apache.spark.sql.DataFrameWriter.save(DataFrameWriter.scala:267)\n\tat org.apache.spark.sql.DataFrameWriter.save(DataFrameWriter.scala:225)\n\tat sun.reflect.NativeMethodAccessorImpl.invoke0(Native Method)\n\tat sun.reflect.NativeMethodAccessorImpl.invoke(NativeMethodAccessorImpl.java:62)\n\tat sun.reflect.DelegatingMethodAccessorImpl.invoke(DelegatingMethodAccessorImpl.java:43)\n\tat java.lang.reflect.Method.invoke(Method.java:498)\n\tat py4j.reflection.MethodInvoker.invoke(MethodInvoker.java:244)\n\tat py4j.reflection.ReflectionEngine.invoke(ReflectionEngine.java:357)\n\tat py4j.Gateway.invoke(Gateway.java:282)\n\tat py4j.commands.AbstractCommand.invokeMethod(AbstractCommand.java:132)\n\tat py4j.commands.CallCommand.execute(CallCommand.java:79)\n\tat py4j.GatewayConnection.run(GatewayConnection.java:238)\n\tat java.lang.Thread.run(Thread.java:748)\n\norg.apache.spark.util.TaskCompletionListenerException: Could not write all entries for bulk operation [287/287]. Error sample (first [5] error messages):\n\tCannot add a value for field [samples_germline.sample] since one of the intermediate objects is mapped as a nested object: [samples_germline]\n\tCannot add a value for field [samples_germline.sample] since one of the intermediate objects is mapped as a nested object: [samples_germline]\n\tCannot add a value for field [samples_germline.sample] since one of the intermediate objects is mapped as a nested object: [samples_germline]\n\tCannot add a value for field [samples_germline.sample] since one of the intermediate objects is mapped as a nested object: [samples_germline]\n\tCannot add a value for field [samples_germline.sample] since one of the intermediate objects is mapped as a nested object: [samples_germline]\nBailing out...\n\tat org.apache.spark.TaskContextImpl.invokeListeners(TaskContextImpl.scala:139)\n\tat org.apache.spark.TaskContextImpl.markTaskCompleted(TaskContextImpl.scala:117)\n\tat org.apache.spark.scheduler.Task.run(Task.scala:125)\n\tat org.apache.spark.executor.Executor$TaskRunner.run(Executor.scala:345)\n\tat java.util.concurrent.ThreadPoolExecutor.runWorker(ThreadPoolExecutor.java:1149)\n\tat java.util.concurrent.ThreadPoolExecutor$Worker.run(ThreadPoolExecutor.java:624)\n\tat java.lang.Thread.run(Thread.java:748)\n\n\n\n\nHail version: 0.2.14-8dcb6722c72a\nError summary: TaskCompletionListenerException: Could not write all entries for bulk operation [287/287]. Error sample (first [5] error messages):\n\tCannot add a value for field [samples_germline.sample] since one of the intermediate objects is mapped as a nested object: [samples_germline]\n\tCannot add a value for field [samples_germline.sample] since one of the intermediate objects is mapped as a nested object: [samples_germline]\n\tCannot add a value for field [samples_germline.sample] since one of the intermediate objects is mapped as a nested object: [samples_germline]\n\tCannot add a value for field [samples_germline.sample] since one of the intermediate objects is mapped as a nested object: [samples_germline]\n\tCannot add a value for field [samples_germline.sample] since one of the intermediate objects is mapped as a nested object: [samples_germline]\nBailing out..."
     ]
    }
   ],
   "source": [
    "from pyspark.sql.functions import lit\n",
    "variants = vcf.to_spark().withColumn(\"chrom\",lit(19))\n",
    "variants.write.format(\"org.elasticsearch.spark.sql\").save(\"rdconnect_13_reduced/7.0.0\", mode='append')"
   ]
  },
  {
   "cell_type": "code",
   "execution_count": null,
   "metadata": {},
   "outputs": [],
   "source": []
  },
  {
   "cell_type": "code",
   "execution_count": null,
   "metadata": {},
   "outputs": [],
   "source": []
  },
  {
   "cell_type": "code",
   "execution_count": null,
   "metadata": {},
   "outputs": [],
   "source": []
  },
  {
   "cell_type": "code",
   "execution_count": 86,
   "metadata": {},
   "outputs": [
    {
     "data": {
      "text/plain": [
       "9"
      ]
     },
     "execution_count": 86,
     "metadata": {},
     "output_type": "execute_result"
    }
   ],
   "source": [
    "new_vcf.count_rows()"
   ]
  },
  {
   "cell_type": "code",
   "execution_count": 95,
   "metadata": {},
   "outputs": [],
   "source": [
    "new_vcf=new_vcf.explode_rows(new_vcf.effs)"
   ]
  },
  {
   "cell_type": "code",
   "execution_count": 96,
   "metadata": {},
   "outputs": [],
   "source": [
    "new_vcf=new_vcf.filter_entries(new_vcf.sample.gt=='0/1')"
   ]
  },
  {
   "cell_type": "code",
   "execution_count": null,
   "metadata": {},
   "outputs": [],
   "source": [
    "new_vcf.e"
   ]
  },
  {
   "cell_type": "code",
   "execution_count": 89,
   "metadata": {},
   "outputs": [
    {
     "name": "stderr",
     "output_type": "stream",
     "text": [
      "2019-06-21 08:18:03 Hail: WARN: entries(): Resulting entries table is sorted by '(row_key, col_key)'.\n",
      "    To preserve row-major matrix table order, first unkey columns with 'key_cols_by()'\n",
      "2019-06-21 08:18:03 Hail: WARN: Name collision: field 'sample' already in object dict. \n",
      "  This field must be referenced with __getitem__ syntax: obj['sample']\n"
     ]
    },
    {
     "name": "stdout",
     "output_type": "stream",
     "text": [
      "+---------------+-------------+-------------+--------+-------+------+-----+--------------+\n",
      "| locus         | alleles     | s           | MIN_DP |   MQ0 | PGT  | PID | PL           |\n",
      "+---------------+-------------+-------------+--------+-------+------+-----+--------------+\n",
      "| locus<GRCh37> | array<str>  | str         |  int32 | int32 | call | str | array<int32> |\n",
      "+---------------+-------------+-------------+--------+-------+------+-----+--------------+\n",
      "| 19:60251      | [\"G\",\"A\"]   | \"EPR000831\" |     NA |    NA | NA   | NA  | [0,0,0]      |\n",
      "| 19:60319      | [\"C\",\"T\"]   | \"EPR000831\" |     NA |    NA | NA   | NA  | [0,0,0]      |\n",
      "| 19:60354      | [\"T\",\"A\"]   | \"EPR000831\" |     NA |    NA | NA   | NA  | [0,0,0]      |\n",
      "| 19:60454      | [\"A\",\"C\"]   | \"EPR000831\" |     NA |    NA | NA   | NA  | [0,0,0]      |\n",
      "| 19:60462      | [\"C\",\"T\"]   | \"EPR000831\" |     NA |    NA | NA   | NA  | [0,21,197]   |\n",
      "| 19:60477      | [\"ACC\",\"A\"] | \"EPR000831\" |     NA |    NA | NA   | NA  | [0,21,197]   |\n",
      "| 19:60542      | [\"C\",\"T\"]   | \"EPR000831\" |     NA |    NA | NA   | NA  | [22,0,226]   |\n",
      "| 19:60612      | [\"A\",\"G\"]   | \"EPR000831\" |     NA |    NA | NA   | NA  | [0,27,280]   |\n",
      "| 19:60652      | [\"G\",\"C\"]   | \"EPR000831\" |     NA |    NA | NA   | NA  | [0,42,473]   |\n",
      "+---------------+-------------+-------------+--------+-------+------+-----+--------------+\n",
      "\n",
      "+-------+--------------+---------------+-----------+-----------+--------------+\n",
      "|   RGQ | SB           | sample.sample | sample.ad | sample.dp | sample.gtInt |\n",
      "+-------+--------------+---------------+-----------+-----------+--------------+\n",
      "| int32 | array<int32> | str           |   float64 |     int32 | call         |\n",
      "+-------+--------------+---------------+-----------+-----------+--------------+\n",
      "|    NA | NA           | \"EPR000831\"   |  0.00e+00 |         0 | NA           |\n",
      "|    NA | NA           | \"EPR000831\"   |  0.00e+00 |         0 | NA           |\n",
      "|    NA | NA           | \"EPR000831\"   |  0.00e+00 |         0 | NA           |\n",
      "|    NA | NA           | \"EPR000831\"   |  0.00e+00 |         0 | NA           |\n",
      "|    NA | NA           | \"EPR000831\"   |  0.00e+00 |         7 | 0/0          |\n",
      "|    NA | NA           | \"EPR000831\"   |  0.00e+00 |         7 | 0/0          |\n",
      "|    NA | NA           | \"EPR000831\"   |  1.80e-01 |        11 | 0/1          |\n",
      "|    NA | NA           | \"EPR000831\"   |  0.00e+00 |         9 | 0/0          |\n",
      "|    NA | NA           | \"EPR000831\"   |  0.00e+00 |        15 | 0/0          |\n",
      "+-------+--------------+---------------+-----------+-----------+--------------+\n",
      "\n",
      "+-----------+-----------+\n",
      "| sample.gt | sample.gq |\n",
      "+-----------+-----------+\n",
      "| str       |     int32 |\n",
      "+-----------+-----------+\n",
      "| NA        |         0 |\n",
      "| NA        |         0 |\n",
      "| NA        |         0 |\n",
      "| NA        |         0 |\n",
      "| \"0/0\"     |        21 |\n",
      "| \"0/0\"     |        21 |\n",
      "| \"0/1\"     |        22 |\n",
      "| \"0/0\"     |        27 |\n",
      "| \"0/0\"     |        42 |\n",
      "+-----------+-----------+\n",
      "\n"
     ]
    }
   ],
   "source": [
    "new_vcf.filter_cols(new_vcf.s==\"EPR000831\").entry.show(10)"
   ]
  },
  {
   "cell_type": "code",
   "execution_count": 73,
   "metadata": {},
   "outputs": [
    {
     "data": {
      "text/plain": [
       "54"
      ]
     },
     "execution_count": 73,
     "metadata": {},
     "output_type": "execute_result"
    }
   ],
   "source": [
    "new_vcf.count_rows()"
   ]
  },
  {
   "cell_type": "code",
   "execution_count": 75,
   "metadata": {},
   "outputs": [
    {
     "data": {
      "text/plain": [
       "9"
      ]
     },
     "execution_count": 75,
     "metadata": {},
     "output_type": "execute_result"
    }
   ],
   "source": [
    "new_vcf.distinct_by_row().count_rows()"
   ]
  },
  {
   "cell_type": "code",
   "execution_count": 97,
   "metadata": {},
   "outputs": [],
   "source": [
    "new_vcf=new_vcf.distinct_by_row()\n",
    "new_vcf=new_vcf.group_rows_by(new_vcf.effs.gene_name).aggregate(mac = hl.agg.counter(new_vcf.sample.sample))"
   ]
  },
  {
   "cell_type": "code",
   "execution_count": 100,
   "metadata": {},
   "outputs": [
    {
     "name": "stderr",
     "output_type": "stream",
     "text": [
      "2019-06-21 08:27:09 Hail: INFO: Coerced sorted dataset\n"
     ]
    },
    {
     "name": "stdout",
     "output_type": "stream",
     "text": [
      "+-----------+-------------+----------------------+\n",
      "| gene_name | s           | mac                  |\n",
      "+-----------+-------------+----------------------+\n",
      "| str       | str         | dict<str, int64>     |\n",
      "+-----------+-------------+----------------------+\n",
      "| \"WASH5P\"  | \"EPR000831\" | {\"EPR000831\":1,NA:8} |\n",
      "+-----------+-------------+----------------------+\n",
      "\n"
     ]
    }
   ],
   "source": [
    "new_vcf.filter_cols(new_vcf.s==\"EPR000831\").entry.show(10)"
   ]
  },
  {
   "cell_type": "code",
   "execution_count": 99,
   "metadata": {},
   "outputs": [
    {
     "name": "stdout",
     "output_type": "stream",
     "text": [
      "----------------------------------------\n",
      "Global fields:\n",
      "    None\n",
      "----------------------------------------\n",
      "Column fields:\n",
      "    's': str\n",
      "----------------------------------------\n",
      "Row fields:\n",
      "    'gene_name': str\n",
      "----------------------------------------\n",
      "Entry fields:\n",
      "    'mac': dict<str, int64>\n",
      "----------------------------------------\n",
      "Column key: ['s']\n",
      "Row key: ['gene_name']\n",
      "----------------------------------------\n"
     ]
    }
   ],
   "source": [
    "new_vcf.describe()"
   ]
  },
  {
   "cell_type": "code",
   "execution_count": 18,
   "metadata": {},
   "outputs": [
    {
     "name": "stderr",
     "output_type": "stream",
     "text": [
      "2019-06-20 16:32:50 Hail: INFO: Ordering unsorted dataset with network shuffle\n",
      "2019-06-20 16:33:04 Hail: INFO: Ordering unsorted dataset with network shuffle\n"
     ]
    },
    {
     "data": {
      "text/html": [
       "<table><thead style=\"font-weight: bold;\"><tr><td>gene_id</td><td>0.mac</td><td>1.mac</td><td>2.mac</td><td>3.mac</td><td>4.mac</td><td>5.mac</td><td>6.mac</td><td>7.mac</td><td>8.mac</td><td>9.mac</td><td>10.mac</td></tr>\n",
       "<tr><td>str</td><td>int64</td><td>int64</td><td>int64</td><td>int64</td><td>int64</td><td>int64</td><td>int64</td><td>int64</td><td>int64</td><td>int64</td><td>int64</td></tr>\n",
       "</thead><tbody><tr><td>&quot;&quot;</td><td>104815</td><td>104815</td><td>104815</td><td>104815</td><td>104815</td><td>104815</td><td>104815</td><td>104815</td><td>104815</td><td>104815</td><td>104815</td></tr>\n",
       "<tr><td>&quot;ENSG00000004776&quot;</td><td>410</td><td>410</td><td>410</td><td>410</td><td>410</td><td>410</td><td>410</td><td>410</td><td>410</td><td>410</td><td>410</td></tr>\n",
       "<tr><td>&quot;ENSG00000004777&quot;</td><td>2517</td><td>2517</td><td>2517</td><td>2517</td><td>2517</td><td>2517</td><td>2517</td><td>2517</td><td>2517</td><td>2517</td><td>2517</td></tr>\n",
       "</tbody></table><p>showing top 3 rows</p>\n",
       "<p>showing the first 11 of 1058 columns</p>\n"
      ],
      "text/plain": [
       "+-------------------+--------+--------+--------+--------+--------+--------+--------+--------+--------+--------+--------+\n",
       "| gene_id           |  0.mac |  1.mac |  2.mac |  3.mac |  4.mac |  5.mac |  6.mac |  7.mac |  8.mac |  9.mac | 10.mac |\n",
       "+-------------------+--------+--------+--------+--------+--------+--------+--------+--------+--------+--------+--------+\n",
       "| str               |  int64 |  int64 |  int64 |  int64 |  int64 |  int64 |  int64 |  int64 |  int64 |  int64 |  int64 |\n",
       "+-------------------+--------+--------+--------+--------+--------+--------+--------+--------+--------+--------+--------+\n",
       "| \"\"                | 104815 | 104815 | 104815 | 104815 | 104815 | 104815 | 104815 | 104815 | 104815 | 104815 | 104815 |\n",
       "| \"ENSG00000004776\" |    410 |    410 |    410 |    410 |    410 |    410 |    410 |    410 |    410 |    410 |    410 |\n",
       "| \"ENSG00000004777\" |   2517 |   2517 |   2517 |   2517 |   2517 |   2517 |   2517 |   2517 |   2517 |   2517 |   2517 |\n",
       "+-------------------+--------+--------+--------+--------+--------+--------+--------+--------+--------+--------+--------+\n",
       "showing top 3 rows\n",
       "showing the first 11 of 1058 columns"
      ]
     },
     "metadata": {},
     "output_type": "display_data"
    }
   ],
   "source": [
    "new_vcf.show(3)"
   ]
  },
  {
   "cell_type": "code",
   "execution_count": 19,
   "metadata": {},
   "outputs": [
    {
     "name": "stdout",
     "output_type": "stream",
     "text": [
      "----------------------------------------\n",
      "Global fields:\n",
      "    None\n",
      "----------------------------------------\n",
      "Column fields:\n",
      "    's': str\n",
      "----------------------------------------\n",
      "Row fields:\n",
      "    'gene_id': str\n",
      "----------------------------------------\n",
      "Entry fields:\n",
      "    'mac': int64\n",
      "----------------------------------------\n",
      "Column key: ['s']\n",
      "Row key: ['gene_id']\n",
      "----------------------------------------\n"
     ]
    }
   ],
   "source": [
    "new_vcf.describe()"
   ]
  },
  {
   "cell_type": "code",
   "execution_count": null,
   "metadata": {},
   "outputs": [],
   "source": []
  }
 ],
 "metadata": {
  "kernelspec": {
   "display_name": "Python 3",
   "language": "python",
   "name": "python3"
  },
  "language_info": {
   "codemirror_mode": {
    "name": "ipython",
    "version": 3
   },
   "file_extension": ".py",
   "mimetype": "text/x-python",
   "name": "python",
   "nbconvert_exporter": "python",
   "pygments_lexer": "ipython3",
   "version": "3.7.3"
  }
 },
 "nbformat": 4,
 "nbformat_minor": 2
}
